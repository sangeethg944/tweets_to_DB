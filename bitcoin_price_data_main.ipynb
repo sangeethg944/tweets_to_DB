{
  "nbformat": 4,
  "nbformat_minor": 0,
  "metadata": {
    "kernelspec": {
      "display_name": "Python 3.6 (introtf)",
      "language": "python",
      "name": "introtf"
    },
    "language_info": {
      "codemirror_mode": {
        "name": "ipython",
        "version": 3
      },
      "file_extension": ".py",
      "mimetype": "text/x-python",
      "name": "python",
      "nbconvert_exporter": "python",
      "pygments_lexer": "ipython3",
      "version": "3.7.5"
    },
    "colab": {
      "name": "bitcoin price data_main.ipynb",
      "private_outputs": true,
      "provenance": [],
      "collapsed_sections": []
    }
  },
  "cells": [
    {
      "cell_type": "markdown",
      "metadata": {
        "id": "UaobXp5-Lvlx"
      },
      "source": [
        "# **Get Bitcoin Price Data Using Python (CoinCap API | Time Series Data-processing)**"
      ]
    },
    {
      "cell_type": "markdown",
      "metadata": {
        "id": "E_VATHL-L1sw"
      },
      "source": [
        "**Created by: [Smitha Kolan](https://www.youtube.com/c/smithakolan)**"
      ]
    },
    {
      "cell_type": "markdown",
      "metadata": {
        "id": "G5DfqbTg4_Vl"
      },
      "source": [
        "## Getting bitcoin price data from CoinCap API"
      ]
    },
    {
      "cell_type": "code",
      "source": [
        "from datetime import datetime\n",
        "from datetime import timedelta\n",
        "\n",
        "def date_to_timestamp(date_time):\n",
        "  date1 = datetime.strptime(date_time, '%Y-%m-%d %H:%M:%S')\n",
        "  date_timestamp = datetime.timestamp(date1)\n",
        "  return int(date_timestamp)\n",
        "\n",
        "time_str = '10/01/2022 00:15:00'\n",
        "date_format_str = '%d/%m/%Y %H:%M:%S'\n",
        "\n",
        "given_time = datetime.strptime(time_str, date_format_str)\n",
        "\n",
        "n=0\n",
        "time_intervals = []\n",
        "for i in range(288):\n",
        "    final_time = given_time + timedelta(minutes=n)\n",
        "    # print(final_time)\n",
        "    time_intervals.append(date_to_timestamp(str(final_time)))\n",
        "    n += 15"
      ],
      "metadata": {
        "id": "aqvw1412Gu42"
      },
      "execution_count": null,
      "outputs": []
    },
    {
      "cell_type": "code",
      "source": [
        "def date_to_timestamp(date_time):\n",
        "  date1 = datetime.strptime(date_time, '%Y-%m-%d %H:%M:%S')\n",
        "  date_timestamp = datetime.timestamp(date1)\n",
        "  return int(date_timestamp)\n",
        "\n",
        "print(date_to_timestamp('2022-01-10 00:15:00'))\n",
        "print(date_to_timestamp('2022-01-13 00:00:00'))"
      ],
      "metadata": {
        "id": "JOujj_UUpqVc"
      },
      "execution_count": null,
      "outputs": []
    },
    {
      "cell_type": "code",
      "metadata": {
        "id": "Zu_inJyp4_Vp"
      },
      "source": [
        "import requests\n",
        "import csv\n",
        "import json\n",
        "# 1641773700, 1642032000\n",
        "url = \"http://api.coincap.io/v2/assets/bitcoin/history?interval=m15&start=1641773700000&end=1642032000000\"\n",
        "\n",
        "payload = {}\n",
        "headers= {}\n",
        "\n",
        "response = requests.request(\"GET\", url, headers=headers, data = payload)\n",
        "data = response.json() \n",
        "# json_data = json.loads(response.text.encode('utf8'))"
      ],
      "execution_count": null,
      "outputs": []
    },
    {
      "cell_type": "code",
      "source": [
        "data['data'][0]"
      ],
      "metadata": {
        "id": "Iwg-4CzgFnE9"
      },
      "execution_count": null,
      "outputs": []
    },
    {
      "cell_type": "code",
      "source": [
        "price_list = []\n",
        "for i in range(len(data['data'])):\n",
        "  if data['data'][i]['time'] == time_intervals[i]*1000:\n",
        "    price_list.append(data['data'][i]['priceUsd'])"
      ],
      "metadata": {
        "id": "MZQbLg8KE3c2"
      },
      "execution_count": null,
      "outputs": []
    },
    {
      "cell_type": "code",
      "source": [
        "dates = []\n",
        "for i in time_intervals:\n",
        "  d = str(datetime.fromtimestamp(i))\n",
        "  dates.append(d)"
      ],
      "metadata": {
        "id": "RnM02KCZsUxg"
      },
      "execution_count": null,
      "outputs": []
    },
    {
      "cell_type": "code",
      "source": [
        "price_list"
      ],
      "metadata": {
        "id": "sZcLaVC1rUJr"
      },
      "execution_count": null,
      "outputs": []
    },
    {
      "cell_type": "code",
      "source": [
        "data['data'][0]['priceUsd']"
      ],
      "metadata": {
        "id": "_DpSCUNPKNRV"
      },
      "execution_count": null,
      "outputs": []
    },
    {
      "cell_type": "code",
      "source": [
        "len(price_list)"
      ],
      "metadata": {
        "id": "T-htf4WJVbee"
      },
      "execution_count": null,
      "outputs": []
    },
    {
      "cell_type": "code",
      "source": [
        "len(time_intervals)"
      ],
      "metadata": {
        "id": "hTq7z-G_VWKs"
      },
      "execution_count": null,
      "outputs": []
    },
    {
      "cell_type": "code",
      "source": [
        "len(dates)"
      ],
      "metadata": {
        "id": "-ePoaYrdY4qm"
      },
      "execution_count": null,
      "outputs": []
    },
    {
      "cell_type": "code",
      "source": [
        "import pandas as pd\n",
        "\n",
        "# df = pd.DataFrame(list(zip(dates, price_list, time_intervals)),\n",
        "#                columns =['start_datetime', 'bitcoin_price', 'timestamp'])\n",
        "\n",
        "df = pd.DataFrame(list(zip(dates, price_list)),\n",
        "               columns =['start_datetime', 'bitcoin_price'])"
      ],
      "metadata": {
        "id": "mABG4a7CVy93"
      },
      "execution_count": null,
      "outputs": []
    },
    {
      "cell_type": "code",
      "source": [
        "df"
      ],
      "metadata": {
        "id": "_yVRna89WZCe"
      },
      "execution_count": null,
      "outputs": []
    },
    {
      "cell_type": "code",
      "source": [
        "df.to_csv('bitcoin.csv')"
      ],
      "metadata": {
        "id": "nI4bw7QGnBvc"
      },
      "execution_count": null,
      "outputs": []
    },
    {
      "cell_type": "code",
      "source": [
        "import requests\n",
        "\n",
        "url = 'https://www.alphavantage.co/query?function=DIGITAL_CURRENCY_DAILY&symbol=BTC&market=CNY&apikey=ZHXOAGLKQ59M9IMX'\n",
        "\n",
        "r = requests.get(url)\n",
        "data1 = r.json()\n",
        "data1"
      ],
      "metadata": {
        "id": "djZobwa2Nuul"
      },
      "execution_count": null,
      "outputs": []
    }
  ]
}