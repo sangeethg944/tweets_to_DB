{
  "nbformat": 4,
  "nbformat_minor": 0,
  "metadata": {
    "colab": {
      "name": "twitter_tweets.ipynb",
      "provenance": [],
      "collapsed_sections": []
    },
    "kernelspec": {
      "name": "python3",
      "display_name": "Python 3"
    },
    "language_info": {
      "name": "python"
    }
  },
  "cells": [
    {
      "cell_type": "code",
      "source": [
        "#function to create timestamps with 15mins interval btwn starting and ending date\n",
        "from datetime import datetime\n",
        "from datetime import timedelta\n",
        "\n",
        "def date_to_timestamp(date_time):\n",
        "  date1 = datetime.strptime(date_time, '%Y-%m-%d %H:%M:%S')\n",
        "  date_timestamp = datetime.timestamp(date1)\n",
        "  return int(date_timestamp)\n",
        "\n",
        "def timestamps(start_datetime,datetime_format):\n",
        "  # time_str = '10/01/2022 00:00:00'\n",
        "  # date_format_str = '%d/%m/%Y %H:%M:%S'\n",
        "\n",
        "  given_time = datetime.strptime(start_datetime, datetime_format)\n",
        "  \n",
        "  n=0\n",
        "  time_intervals = []\n",
        "  for i in range(288):\n",
        "    final_time = given_time + timedelta(minutes=n)\n",
        "    time_intervals.append(date_to_timestamp(str(final_time)))\n",
        "    n += 15\n",
        "  return time_intervals"
      ],
      "metadata": {
        "id": "27_whRdrwuNC"
      },
      "execution_count": null,
      "outputs": []
    },
    {
      "cell_type": "code",
      "source": [
        "import pandas as pd\n",
        "import tweepy\n",
        "\n",
        "words = \"#bitcoin\" + \" -filter:retweets AND -filter:replies\"\n",
        "\n",
        "db = pd.DataFrame(columns=['time_created', 'tweet_count'])\n",
        "\n",
        "user_key = '#######'\n",
        "user_secret = '#######'\n",
        "access_token = '#######-######'\n",
        "access_token_secret = '#######'\n",
        "\n",
        "\n",
        "auth = tweepy.OAuthHandler(user_key, user_secret)\n",
        "auth.set_access_token(access_token, access_token_secret)\n",
        "api = tweepy.API(auth)"
      ],
      "metadata": {
        "id": "SL2Ovmd8pIR-"
      },
      "execution_count": null,
      "outputs": []
    },
    {
      "cell_type": "code",
      "source": [
        "time_str = '10/01/2022 00:00:00'\n",
        "date_format_str = '%d/%m/%Y %H:%M:%S'\n",
        "time_intervals = timestamps(time_str, date_format_str)"
      ],
      "metadata": {
        "id": "Dq6Jg36ApxQs"
      },
      "execution_count": null,
      "outputs": []
    },
    {
      "cell_type": "code",
      "source": [
        "for i in range(len(time_intervals[0:6])):\n",
        "  tweets = tweepy.Cursor(api.search,\n",
        "          words, lang=\"en\",\n",
        "          since= time_intervals[i],until = time_intervals[i+1],\n",
        "          tweet_mode='extended').items()\n",
        "  list_tweets = [tweet.created_at for tweet in tweets]\n",
        "\n",
        "  ith_tweet = [time_intervals[i], len(list_tweets)]\n",
        "  db.loc[len(db)] = ith_tweet"
      ],
      "metadata": {
        "id": "DFKVCQOJp0dQ"
      },
      "execution_count": null,
      "outputs": []
    },
    {
      "cell_type": "code",
      "source": [
        "filename = 'scraped_tweets.csv'\n",
        "db.to_csv(filename)"
      ],
      "metadata": {
        "id": "UlKs3QX4rDGB"
      },
      "execution_count": null,
      "outputs": []
    }
  ]
}