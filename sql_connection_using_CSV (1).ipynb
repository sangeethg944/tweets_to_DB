{
  "cells": [
    {
      "cell_type": "markdown",
      "id": "60936e56",
      "metadata": {
        "id": "60936e56"
      },
      "source": [
        "### CSV to Database"
      ]
    },
    {
      "cell_type": "code",
      "execution_count": null,
      "id": "c79ef688",
      "metadata": {
        "id": "c79ef688",
        "outputId": "b4d2aba5-6087-469c-c3a1-72615cbf6092"
      },
      "outputs": [
        {
          "name": "stdout",
          "output_type": "stream",
          "text": [
            "Requirement already satisfied: pyodbc in c:\\programdata\\anaconda3\\lib\\site-packages (4.0.0-unsupported)\n"
          ]
        }
      ],
      "source": [
        "!pip install pyodbc"
      ]
    },
    {
      "cell_type": "code",
      "execution_count": null,
      "id": "4be5444a",
      "metadata": {
        "id": "4be5444a"
      },
      "outputs": [],
      "source": [
        "import pandas as pd\n",
        "import pyodbc\n"
      ]
    },
    {
      "cell_type": "code",
      "execution_count": null,
      "id": "70a31876",
      "metadata": {
        "id": "70a31876"
      },
      "outputs": [],
      "source": [
        "cnxn = pyodbc.connect(driver='{SQL Server Native Client 11.0}', \n",
        "                      host=\"########\", database=\"master\", trusted_connection=\"yes\",\n",
        "                      user=\"########\",password=\"\")"
      ]
    },
    {
      "cell_type": "code",
      "execution_count": null,
      "id": "3983e3f8",
      "metadata": {
        "id": "3983e3f8"
      },
      "outputs": [],
      "source": [
        "df = pd.read_csv(\"BitcoinPrice.csv\")"
      ]
    },
    {
      "cell_type": "code",
      "execution_count": null,
      "id": "28379dc4",
      "metadata": {
        "id": "28379dc4",
        "outputId": "a0363188-42c9-4fa1-fdd2-a718cb361814"
      },
      "outputs": [
        {
          "data": {
            "text/html": [
              "<div>\n",
              "<style scoped>\n",
              "    .dataframe tbody tr th:only-of-type {\n",
              "        vertical-align: middle;\n",
              "    }\n",
              "\n",
              "    .dataframe tbody tr th {\n",
              "        vertical-align: top;\n",
              "    }\n",
              "\n",
              "    .dataframe thead th {\n",
              "        text-align: right;\n",
              "    }\n",
              "</style>\n",
              "<table border=\"1\" class=\"dataframe\">\n",
              "  <thead>\n",
              "    <tr style=\"text-align: right;\">\n",
              "      <th></th>\n",
              "      <th>Unnamed: 0</th>\n",
              "      <th>Timestamp</th>\n",
              "      <th>BTCPrice</th>\n",
              "    </tr>\n",
              "  </thead>\n",
              "  <tbody>\n",
              "    <tr>\n",
              "      <th>0</th>\n",
              "      <td>0</td>\n",
              "      <td>1641860100000</td>\n",
              "      <td>41854.041066</td>\n",
              "    </tr>\n",
              "    <tr>\n",
              "      <th>1</th>\n",
              "      <td>1</td>\n",
              "      <td>1641861000000</td>\n",
              "      <td>41785.570672</td>\n",
              "    </tr>\n",
              "    <tr>\n",
              "      <th>2</th>\n",
              "      <td>2</td>\n",
              "      <td>1641861900000</td>\n",
              "      <td>41766.973148</td>\n",
              "    </tr>\n",
              "    <tr>\n",
              "      <th>3</th>\n",
              "      <td>3</td>\n",
              "      <td>1641862800000</td>\n",
              "      <td>41732.555234</td>\n",
              "    </tr>\n",
              "    <tr>\n",
              "      <th>4</th>\n",
              "      <td>4</td>\n",
              "      <td>1641863700000</td>\n",
              "      <td>41731.888963</td>\n",
              "    </tr>\n",
              "  </tbody>\n",
              "</table>\n",
              "</div>"
            ],
            "text/plain": [
              "   Unnamed: 0      Timestamp      BTCPrice\n",
              "0           0  1641860100000  41854.041066\n",
              "1           1  1641861000000  41785.570672\n",
              "2           2  1641861900000  41766.973148\n",
              "3           3  1641862800000  41732.555234\n",
              "4           4  1641863700000  41731.888963"
            ]
          },
          "execution_count": 19,
          "metadata": {},
          "output_type": "execute_result"
        }
      ],
      "source": [
        "df.head()"
      ]
    },
    {
      "cell_type": "code",
      "execution_count": null,
      "id": "e57daf9f",
      "metadata": {
        "id": "e57daf9f"
      },
      "outputs": [],
      "source": [
        "df=df.drop(columns=\"Unnamed: 0\")\n"
      ]
    },
    {
      "cell_type": "code",
      "execution_count": null,
      "id": "4783d0c9",
      "metadata": {
        "id": "4783d0c9",
        "outputId": "1cf95351-636d-4f1d-c9a7-8f69d38e4fdf"
      },
      "outputs": [
        {
          "data": {
            "text/plain": [
              "Timestamp      int64\n",
              "BTCPrice     float64\n",
              "dtype: object"
            ]
          },
          "execution_count": 23,
          "metadata": {},
          "output_type": "execute_result"
        }
      ],
      "source": [
        "df.dtypes"
      ]
    },
    {
      "cell_type": "code",
      "execution_count": null,
      "id": "48c6203c",
      "metadata": {
        "id": "48c6203c",
        "outputId": "d94cabe2-e8cc-4cbe-8a0e-2f5976d754e3"
      },
      "outputs": [
        {
          "data": {
            "text/plain": [
              "<pyodbc.Cursor at 0x20f9e7bec30>"
            ]
          },
          "execution_count": 48,
          "metadata": {},
          "output_type": "execute_result"
        }
      ],
      "source": [
        "\n",
        "cnxn.execute('''\n",
        "\t\tCREATE TABLE Bitcoinss (\n",
        "\t\t\tTimestamp BIGINT,\n",
        "\t\t\tBTCPrice FLOAT\n",
        "\t\t\t)\n",
        "               ''')"
      ]
    },
    {
      "cell_type": "code",
      "execution_count": null,
      "id": "29cb3b0f",
      "metadata": {
        "id": "29cb3b0f"
      },
      "outputs": [],
      "source": [
        "cnxn.commit()"
      ]
    },
    {
      "cell_type": "markdown",
      "source": [
        "Inserting values to the Table bitcoin"
      ],
      "metadata": {
        "id": "wYDLn3Xt3zEL"
      },
      "id": "wYDLn3Xt3zEL"
    },
    {
      "cell_type": "code",
      "execution_count": null,
      "id": "5510fd98",
      "metadata": {
        "id": "5510fd98"
      },
      "outputs": [],
      "source": [
        "\n",
        "for row in df.itertuples():\n",
        "    cnxn.execute('''\n",
        "                INSERT INTO bitcoin (Timestamp, BTCPrice)\n",
        "                VALUES (?,?)\n",
        "                ''',\n",
        "                row.Timestamp, \n",
        "                row.BTCPrice\n",
        "                )\n",
        "cnxn.commit()"
      ]
    }
  ],
  "metadata": {
    "kernelspec": {
      "display_name": "Python 3 (ipykernel)",
      "language": "python",
      "name": "python3"
    },
    "language_info": {
      "codemirror_mode": {
        "name": "ipython",
        "version": 3
      },
      "file_extension": ".py",
      "mimetype": "text/x-python",
      "name": "python",
      "nbconvert_exporter": "python",
      "pygments_lexer": "ipython3",
      "version": "3.9.7"
    },
    "colab": {
      "name": "sql_connection_using_CSV.ipynb",
      "provenance": [],
      "collapsed_sections": []
    }
  },
  "nbformat": 4,
  "nbformat_minor": 5
}